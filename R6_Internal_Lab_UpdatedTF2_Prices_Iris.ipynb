{
 "cells": [
  {
   "cell_type": "markdown",
   "metadata": {
    "colab_type": "text",
    "id": "84Q8JfvaeZZ6"
   },
   "source": [
    "## Linear Classifier in TensorFlow \n",
    "Using Low Level API in Eager Execution mode"
   ]
  },
  {
   "cell_type": "markdown",
   "metadata": {
    "colab_type": "text",
    "id": "sb7Epo0VOB58"
   },
   "source": [
    "### Load tensorflow"
   ]
  },
  {
   "cell_type": "code",
   "execution_count": 1,
   "metadata": {
    "colab": {},
    "colab_type": "code",
    "id": "fHpCNRv1OB5-"
   },
   "outputs": [],
   "source": [
    "import tensorflow as tf"
   ]
  },
  {
   "cell_type": "code",
   "execution_count": 2,
   "metadata": {
    "colab": {},
    "colab_type": "code",
    "id": "Mjtb-EMcm5K0"
   },
   "outputs": [],
   "source": [
    "#Enable Eager Execution if using tensflow version < 2.0\n",
    "#From tensorflow v2.0 onwards, Eager Execution will be enabled by default\n",
    "tf.enable_eager_execution()"
   ]
  },
  {
   "cell_type": "markdown",
   "metadata": {
    "colab_type": "text",
    "id": "DxJDmJqqOB6K",
    "slideshow": {
     "slide_type": "slide"
    }
   },
   "source": [
    "### Collect Data"
   ]
  },
  {
   "cell_type": "code",
   "execution_count": 0,
   "metadata": {
    "colab": {},
    "colab_type": "code",
    "id": "FhllFLyKOB6N"
   },
   "outputs": [],
   "source": [
    "from google.colab import drive\n",
    "drive.mount('/gdrive')"
   ]
  },
  {
   "cell_type": "code",
   "execution_count": 3,
   "metadata": {
    "colab": {},
    "colab_type": "code",
    "id": "KiObW4V4SIOz"
   },
   "outputs": [],
   "source": [
    "import pandas as pd"
   ]
  },
  {
   "cell_type": "code",
   "execution_count": 51,
   "metadata": {
    "colab": {},
    "colab_type": "code",
    "id": "B4yQKMiJOB6R"
   },
   "outputs": [],
   "source": [
    "data = pd.read_csv('prices.csv')"
   ]
  },
  {
   "cell_type": "markdown",
   "metadata": {
    "colab_type": "text",
    "id": "fgkX6SEqOB6W"
   },
   "source": [
    "### Check all columns in the dataset"
   ]
  },
  {
   "cell_type": "code",
   "execution_count": 52,
   "metadata": {
    "colab": {},
    "colab_type": "code",
    "id": "7K8pWsNQOB6X"
   },
   "outputs": [
    {
     "data": {
      "text/html": [
       "<div>\n",
       "<style scoped>\n",
       "    .dataframe tbody tr th:only-of-type {\n",
       "        vertical-align: middle;\n",
       "    }\n",
       "\n",
       "    .dataframe tbody tr th {\n",
       "        vertical-align: top;\n",
       "    }\n",
       "\n",
       "    .dataframe thead th {\n",
       "        text-align: right;\n",
       "    }\n",
       "</style>\n",
       "<table border=\"1\" class=\"dataframe\">\n",
       "  <thead>\n",
       "    <tr style=\"text-align: right;\">\n",
       "      <th></th>\n",
       "      <th>date</th>\n",
       "      <th>symbol</th>\n",
       "      <th>open</th>\n",
       "      <th>close</th>\n",
       "      <th>low</th>\n",
       "      <th>high</th>\n",
       "      <th>volume</th>\n",
       "    </tr>\n",
       "  </thead>\n",
       "  <tbody>\n",
       "    <tr>\n",
       "      <th>0</th>\n",
       "      <td>2016-01-05 00:00:00</td>\n",
       "      <td>WLTW</td>\n",
       "      <td>123.430000</td>\n",
       "      <td>125.839996</td>\n",
       "      <td>122.309998</td>\n",
       "      <td>126.250000</td>\n",
       "      <td>2163600.0</td>\n",
       "    </tr>\n",
       "    <tr>\n",
       "      <th>1</th>\n",
       "      <td>2016-01-06 00:00:00</td>\n",
       "      <td>WLTW</td>\n",
       "      <td>125.239998</td>\n",
       "      <td>119.980003</td>\n",
       "      <td>119.940002</td>\n",
       "      <td>125.540001</td>\n",
       "      <td>2386400.0</td>\n",
       "    </tr>\n",
       "    <tr>\n",
       "      <th>2</th>\n",
       "      <td>2016-01-07 00:00:00</td>\n",
       "      <td>WLTW</td>\n",
       "      <td>116.379997</td>\n",
       "      <td>114.949997</td>\n",
       "      <td>114.930000</td>\n",
       "      <td>119.739998</td>\n",
       "      <td>2489500.0</td>\n",
       "    </tr>\n",
       "    <tr>\n",
       "      <th>3</th>\n",
       "      <td>2016-01-08 00:00:00</td>\n",
       "      <td>WLTW</td>\n",
       "      <td>115.480003</td>\n",
       "      <td>116.620003</td>\n",
       "      <td>113.500000</td>\n",
       "      <td>117.440002</td>\n",
       "      <td>2006300.0</td>\n",
       "    </tr>\n",
       "    <tr>\n",
       "      <th>4</th>\n",
       "      <td>2016-01-11 00:00:00</td>\n",
       "      <td>WLTW</td>\n",
       "      <td>117.010002</td>\n",
       "      <td>114.970001</td>\n",
       "      <td>114.089996</td>\n",
       "      <td>117.330002</td>\n",
       "      <td>1408600.0</td>\n",
       "    </tr>\n",
       "  </tbody>\n",
       "</table>\n",
       "</div>"
      ],
      "text/plain": [
       "                  date symbol        open       close         low        high  \\\n",
       "0  2016-01-05 00:00:00   WLTW  123.430000  125.839996  122.309998  126.250000   \n",
       "1  2016-01-06 00:00:00   WLTW  125.239998  119.980003  119.940002  125.540001   \n",
       "2  2016-01-07 00:00:00   WLTW  116.379997  114.949997  114.930000  119.739998   \n",
       "3  2016-01-08 00:00:00   WLTW  115.480003  116.620003  113.500000  117.440002   \n",
       "4  2016-01-11 00:00:00   WLTW  117.010002  114.970001  114.089996  117.330002   \n",
       "\n",
       "      volume  \n",
       "0  2163600.0  \n",
       "1  2386400.0  \n",
       "2  2489500.0  \n",
       "3  2006300.0  \n",
       "4  1408600.0  "
      ]
     },
     "execution_count": 52,
     "metadata": {},
     "output_type": "execute_result"
    }
   ],
   "source": [
    "data.head()"
   ]
  },
  {
   "cell_type": "code",
   "execution_count": 53,
   "metadata": {},
   "outputs": [
    {
     "data": {
      "text/plain": [
       "Index(['date', 'symbol', 'open', 'close', 'low', 'high', 'volume'], dtype='object')"
      ]
     },
     "execution_count": 53,
     "metadata": {},
     "output_type": "execute_result"
    }
   ],
   "source": [
    "data.columns"
   ]
  },
  {
   "cell_type": "markdown",
   "metadata": {
    "colab_type": "text",
    "id": "7dU6X7MpOB6c"
   },
   "source": [
    "### Drop columns `date` and  `symbol`"
   ]
  },
  {
   "cell_type": "code",
   "execution_count": 54,
   "metadata": {
    "colab": {},
    "colab_type": "code",
    "id": "lh_6spSKOB6e"
   },
   "outputs": [],
   "source": [
    "data.drop(['date','symbol'],axis=1,inplace=True)"
   ]
  },
  {
   "cell_type": "code",
   "execution_count": 55,
   "metadata": {
    "colab": {},
    "colab_type": "code",
    "id": "xlwbUgTwOB6i",
    "outputId": "56bad82a-f271-415a-e0d6-cbe1c4290743"
   },
   "outputs": [
    {
     "data": {
      "text/html": [
       "<div>\n",
       "<style scoped>\n",
       "    .dataframe tbody tr th:only-of-type {\n",
       "        vertical-align: middle;\n",
       "    }\n",
       "\n",
       "    .dataframe tbody tr th {\n",
       "        vertical-align: top;\n",
       "    }\n",
       "\n",
       "    .dataframe thead th {\n",
       "        text-align: right;\n",
       "    }\n",
       "</style>\n",
       "<table border=\"1\" class=\"dataframe\">\n",
       "  <thead>\n",
       "    <tr style=\"text-align: right;\">\n",
       "      <th></th>\n",
       "      <th>open</th>\n",
       "      <th>close</th>\n",
       "      <th>low</th>\n",
       "      <th>high</th>\n",
       "      <th>volume</th>\n",
       "    </tr>\n",
       "  </thead>\n",
       "  <tbody>\n",
       "    <tr>\n",
       "      <th>0</th>\n",
       "      <td>123.430000</td>\n",
       "      <td>125.839996</td>\n",
       "      <td>122.309998</td>\n",
       "      <td>126.250000</td>\n",
       "      <td>2163600.0</td>\n",
       "    </tr>\n",
       "    <tr>\n",
       "      <th>1</th>\n",
       "      <td>125.239998</td>\n",
       "      <td>119.980003</td>\n",
       "      <td>119.940002</td>\n",
       "      <td>125.540001</td>\n",
       "      <td>2386400.0</td>\n",
       "    </tr>\n",
       "    <tr>\n",
       "      <th>2</th>\n",
       "      <td>116.379997</td>\n",
       "      <td>114.949997</td>\n",
       "      <td>114.930000</td>\n",
       "      <td>119.739998</td>\n",
       "      <td>2489500.0</td>\n",
       "    </tr>\n",
       "    <tr>\n",
       "      <th>3</th>\n",
       "      <td>115.480003</td>\n",
       "      <td>116.620003</td>\n",
       "      <td>113.500000</td>\n",
       "      <td>117.440002</td>\n",
       "      <td>2006300.0</td>\n",
       "    </tr>\n",
       "    <tr>\n",
       "      <th>4</th>\n",
       "      <td>117.010002</td>\n",
       "      <td>114.970001</td>\n",
       "      <td>114.089996</td>\n",
       "      <td>117.330002</td>\n",
       "      <td>1408600.0</td>\n",
       "    </tr>\n",
       "  </tbody>\n",
       "</table>\n",
       "</div>"
      ],
      "text/plain": [
       "         open       close         low        high     volume\n",
       "0  123.430000  125.839996  122.309998  126.250000  2163600.0\n",
       "1  125.239998  119.980003  119.940002  125.540001  2386400.0\n",
       "2  116.379997  114.949997  114.930000  119.739998  2489500.0\n",
       "3  115.480003  116.620003  113.500000  117.440002  2006300.0\n",
       "4  117.010002  114.970001  114.089996  117.330002  1408600.0"
      ]
     },
     "execution_count": 55,
     "metadata": {},
     "output_type": "execute_result"
    }
   ],
   "source": [
    "data.head()"
   ]
  },
  {
   "cell_type": "markdown",
   "metadata": {
    "colab_type": "text",
    "id": "3DBv3WWYOB6q"
   },
   "source": [
    "### Consider only first 1000 rows in the dataset for building feature set and target set\n",
    "Target 'Volume' has very high values. Divide 'Volume' by 1000,000"
   ]
  },
  {
   "cell_type": "code",
   "execution_count": 56,
   "metadata": {
    "colab": {},
    "colab_type": "code",
    "id": "Z_hG9rGBOB6s"
   },
   "outputs": [
    {
     "data": {
      "text/plain": [
       "(1000, 5)"
      ]
     },
     "execution_count": 56,
     "metadata": {},
     "output_type": "execute_result"
    }
   ],
   "source": [
    "data_df = data.head(1000)\n",
    "data_df.shape"
   ]
  },
  {
   "cell_type": "code",
   "execution_count": 57,
   "metadata": {},
   "outputs": [
    {
     "name": "stderr",
     "output_type": "stream",
     "text": [
      "C:\\Users\\hp\\Anaconda3\\lib\\site-packages\\ipykernel_launcher.py:1: SettingWithCopyWarning: \n",
      "A value is trying to be set on a copy of a slice from a DataFrame.\n",
      "Try using .loc[row_indexer,col_indexer] = value instead\n",
      "\n",
      "See the caveats in the documentation: http://pandas.pydata.org/pandas-docs/stable/indexing.html#indexing-view-versus-copy\n",
      "  \"\"\"Entry point for launching an IPython kernel.\n"
     ]
    }
   ],
   "source": [
    "data_df['volume']= data_df['volume']/1000000"
   ]
  },
  {
   "cell_type": "code",
   "execution_count": 58,
   "metadata": {},
   "outputs": [
    {
     "data": {
      "text/html": [
       "<div>\n",
       "<style scoped>\n",
       "    .dataframe tbody tr th:only-of-type {\n",
       "        vertical-align: middle;\n",
       "    }\n",
       "\n",
       "    .dataframe tbody tr th {\n",
       "        vertical-align: top;\n",
       "    }\n",
       "\n",
       "    .dataframe thead th {\n",
       "        text-align: right;\n",
       "    }\n",
       "</style>\n",
       "<table border=\"1\" class=\"dataframe\">\n",
       "  <thead>\n",
       "    <tr style=\"text-align: right;\">\n",
       "      <th></th>\n",
       "      <th>open</th>\n",
       "      <th>close</th>\n",
       "      <th>low</th>\n",
       "      <th>high</th>\n",
       "      <th>volume</th>\n",
       "    </tr>\n",
       "  </thead>\n",
       "  <tbody>\n",
       "    <tr>\n",
       "      <th>0</th>\n",
       "      <td>123.430000</td>\n",
       "      <td>125.839996</td>\n",
       "      <td>122.309998</td>\n",
       "      <td>126.250000</td>\n",
       "      <td>2.1636</td>\n",
       "    </tr>\n",
       "    <tr>\n",
       "      <th>1</th>\n",
       "      <td>125.239998</td>\n",
       "      <td>119.980003</td>\n",
       "      <td>119.940002</td>\n",
       "      <td>125.540001</td>\n",
       "      <td>2.3864</td>\n",
       "    </tr>\n",
       "    <tr>\n",
       "      <th>2</th>\n",
       "      <td>116.379997</td>\n",
       "      <td>114.949997</td>\n",
       "      <td>114.930000</td>\n",
       "      <td>119.739998</td>\n",
       "      <td>2.4895</td>\n",
       "    </tr>\n",
       "    <tr>\n",
       "      <th>3</th>\n",
       "      <td>115.480003</td>\n",
       "      <td>116.620003</td>\n",
       "      <td>113.500000</td>\n",
       "      <td>117.440002</td>\n",
       "      <td>2.0063</td>\n",
       "    </tr>\n",
       "    <tr>\n",
       "      <th>4</th>\n",
       "      <td>117.010002</td>\n",
       "      <td>114.970001</td>\n",
       "      <td>114.089996</td>\n",
       "      <td>117.330002</td>\n",
       "      <td>1.4086</td>\n",
       "    </tr>\n",
       "  </tbody>\n",
       "</table>\n",
       "</div>"
      ],
      "text/plain": [
       "         open       close         low        high  volume\n",
       "0  123.430000  125.839996  122.309998  126.250000  2.1636\n",
       "1  125.239998  119.980003  119.940002  125.540001  2.3864\n",
       "2  116.379997  114.949997  114.930000  119.739998  2.4895\n",
       "3  115.480003  116.620003  113.500000  117.440002  2.0063\n",
       "4  117.010002  114.970001  114.089996  117.330002  1.4086"
      ]
     },
     "execution_count": 58,
     "metadata": {},
     "output_type": "execute_result"
    }
   ],
   "source": [
    "data_df.head()"
   ]
  },
  {
   "cell_type": "markdown",
   "metadata": {
    "colab_type": "text",
    "id": "M3UaApqYOB6x"
   },
   "source": [
    "### Divide the data into train and test sets"
   ]
  },
  {
   "cell_type": "code",
   "execution_count": 15,
   "metadata": {
    "colab": {},
    "colab_type": "code",
    "id": "4LE4U8lTdQJq"
   },
   "outputs": [],
   "source": [
    "from sklearn.model_selection import train_test_split"
   ]
  },
  {
   "cell_type": "code",
   "execution_count": 60,
   "metadata": {},
   "outputs": [],
   "source": [
    "features = data_df.drop('volume',axis=1)\n",
    "target = data_df.pop('volume')"
   ]
  },
  {
   "cell_type": "code",
   "execution_count": 61,
   "metadata": {},
   "outputs": [],
   "source": [
    "X_train, X_test,Y_train,Y_test = train_test_split(features,target,test_size=0.2,random_state=1)"
   ]
  },
  {
   "cell_type": "markdown",
   "metadata": {
    "colab_type": "text",
    "id": "oYK-aUuLbrz2"
   },
   "source": [
    "#### Convert Training and Test Data to numpy float32 arrays\n"
   ]
  },
  {
   "cell_type": "code",
   "execution_count": 62,
   "metadata": {
    "colab": {},
    "colab_type": "code",
    "id": "Ao-S0tQGcncz"
   },
   "outputs": [],
   "source": [
    "import numpy as np\n",
    "X_train=X_train.astype(np.float32)\n",
    "Y_train = Y_train.astype(np.float32)\n",
    "X_test = X_test.astype(np.float32)\n",
    "Y_test = Y_test.astype(np.float32)"
   ]
  },
  {
   "cell_type": "markdown",
   "metadata": {
    "colab_type": "text",
    "id": "im1ZegbDdKgv"
   },
   "source": [
    "### Normalize the data\n",
    "You can use Normalizer from sklearn.preprocessing"
   ]
  },
  {
   "cell_type": "code",
   "execution_count": 63,
   "metadata": {
    "colab": {},
    "colab_type": "code",
    "id": "2EkKAy7fOB6y"
   },
   "outputs": [],
   "source": [
    "from sklearn.preprocessing import Normalizer\n",
    "norm = Normalizer()\n",
    "X_train_scaled = norm.fit_transform(X_train)\n",
    "X_test_scaled = norm.transform(X_test)"
   ]
  },
  {
   "cell_type": "markdown",
   "metadata": {
    "colab_type": "text",
    "id": "v6vE4eYCOB62",
    "slideshow": {
     "slide_type": "slide"
    }
   },
   "source": [
    "## Building the Model in tensorflow"
   ]
  },
  {
   "cell_type": "markdown",
   "metadata": {
    "colab_type": "text",
    "id": "297_qja4OB7A",
    "slideshow": {
     "slide_type": "slide"
    }
   },
   "source": [
    "1.Define Weights and Bias, use tf.zeros to initialize weights and Bias"
   ]
  },
  {
   "cell_type": "code",
   "execution_count": 134,
   "metadata": {
    "colab": {},
    "colab_type": "code",
    "id": "L205qPeQOB7B"
   },
   "outputs": [],
   "source": [
    "W = tf.Variable(tf.zeros(shape=[4,1]), name=\"Weights\")\n",
    "b = tf.Variable(tf.zeros(shape=[1]),name=\"Bias\")"
   ]
  },
  {
   "cell_type": "markdown",
   "metadata": {
    "colab_type": "text",
    "id": "HgtWA-UIOB7F",
    "slideshow": {
     "slide_type": "slide"
    }
   },
   "source": [
    "2.Define a function to calculate prediction"
   ]
  },
  {
   "cell_type": "code",
   "execution_count": 75,
   "metadata": {
    "colab": {},
    "colab_type": "code",
    "id": "JveGlx25OB7H"
   },
   "outputs": [],
   "source": [
    "def pred(x,w,b):\n",
    "    y = tf.add(tf.matmul(x,w),b,name='output')\n",
    "    return y"
   ]
  },
  {
   "cell_type": "code",
   "execution_count": 82,
   "metadata": {},
   "outputs": [],
   "source": [
    "y_pred=pred(X_train_scaled,W,b)"
   ]
  },
  {
   "cell_type": "markdown",
   "metadata": {
    "colab_type": "text",
    "id": "TL1hIwf_OB7M",
    "slideshow": {
     "slide_type": "slide"
    }
   },
   "source": [
    "3.Loss (Cost) Function [Mean square error]"
   ]
  },
  {
   "cell_type": "code",
   "execution_count": 84,
   "metadata": {
    "colab": {},
    "colab_type": "code",
    "id": "8VSWPiGXOB7P"
   },
   "outputs": [],
   "source": [
    "def cost_fn(y_actual,y_pred):\n",
    "    loss = tf.reduce_mean(tf.square(y_pred-y_actual),name='Loss')\n",
    "    return loss"
   ]
  },
  {
   "cell_type": "code",
   "execution_count": 85,
   "metadata": {},
   "outputs": [
    {
     "data": {
      "text/plain": [
       "<tf.Tensor: id=45, shape=(), dtype=float32, numpy=203.2221>"
      ]
     },
     "execution_count": 85,
     "metadata": {},
     "output_type": "execute_result"
    }
   ],
   "source": [
    "cost_fn(Y_train,y_pred)"
   ]
  },
  {
   "cell_type": "markdown",
   "metadata": {
    "colab_type": "text",
    "id": "jzG85FUlOB7U",
    "slideshow": {
     "slide_type": "slide"
    }
   },
   "source": [
    "4.Function to train the Model\n",
    "\n",
    "1.   Record all the mathematical steps to calculate Loss\n",
    "2.   Calculate Gradients of Loss w.r.t weights and bias\n",
    "3.   Update Weights and Bias based on gradients and learning rate to minimize loss"
   ]
  },
  {
   "cell_type": "code",
   "execution_count": 127,
   "metadata": {},
   "outputs": [],
   "source": [
    "def TrainModel(x,y,w,b):\n",
    "    with tf.GradientTape() as tape:\n",
    "        tape.watch([w,b])\n",
    "        y_pred=pred(x,w,b)\n",
    "        loss=cost_fn(y,y_pred)\n",
    "    dw, db = tape.gradient(loss, [w,b])\n",
    "    w=w-0.03*dw\n",
    "    b=b-0.03*db\n",
    "    return[w,b,loss.numpy()]"
   ]
  },
  {
   "cell_type": "code",
   "execution_count": 117,
   "metadata": {},
   "outputs": [
    {
     "name": "stdout",
     "output_type": "stream",
     "text": [
      "tf.Tensor(203.2221, shape=(), dtype=float32)\n",
      "tf.Tensor(\n",
      "[[0.16056791]\n",
      " [0.16110753]\n",
      " [0.1588958 ]\n",
      " [0.16251586]], shape=(4, 1), dtype=float32)\n",
      "tf.Tensor([0.3215619], shape=(1,), dtype=float32)\n"
     ]
    }
   ],
   "source": [
    "W,b = TrainModel(X_train_scaled,Y_train,W,b)\n",
    "print(W)\n",
    "print(b)"
   ]
  },
  {
   "cell_type": "markdown",
   "metadata": {
    "colab_type": "text",
    "id": "xSypb_u8OB7e",
    "slideshow": {
     "slide_type": "slide"
    }
   },
   "source": [
    "## Train the model for 100 epochs \n",
    "1. Observe the training loss at every iteration\n",
    "2. Observe Test loss at every 5th iteration"
   ]
  },
  {
   "cell_type": "code",
   "execution_count": 136,
   "metadata": {},
   "outputs": [],
   "source": [
    "W = tf.Variable(tf.zeros(shape=[4,1]), name=\"Weights\")\n",
    "b = tf.Variable(tf.zeros(shape=[1]),name=\"Bias\")"
   ]
  },
  {
   "cell_type": "code",
   "execution_count": 137,
   "metadata": {
    "colab": {},
    "colab_type": "code",
    "id": "DVvgj7eQOB7f"
   },
   "outputs": [
    {
     "name": "stdout",
     "output_type": "stream",
     "text": [
      "Training Loss for Epoch 0 : 203.2221\n",
      "Test Loss for Epoch 0 : 367.35556\n",
      "Training Loss for Epoch 1 : 196.7424\n",
      "Training Loss for Epoch 2 : 191.72452\n",
      "Training Loss for Epoch 3 : 187.83855\n",
      "Training Loss for Epoch 4 : 184.82933\n",
      "Training Loss for Epoch 5 : 182.49902\n",
      "Test Loss for Epoch 5 : 352.3129\n",
      "Training Loss for Epoch 6 : 180.69427\n",
      "Training Loss for Epoch 7 : 179.29675\n",
      "Training Loss for Epoch 8 : 178.21437\n",
      "Training Loss for Epoch 9 : 177.37633\n",
      "Training Loss for Epoch 10 : 176.72731\n",
      "Test Loss for Epoch 10 : 348.37354\n",
      "Training Loss for Epoch 11 : 176.22466\n",
      "Training Loss for Epoch 12 : 175.83534\n",
      "Training Loss for Epoch 13 : 175.53392\n",
      "Training Loss for Epoch 14 : 175.30061\n",
      "Training Loss for Epoch 15 : 175.11978\n",
      "Test Loss for Epoch 15 : 347.40915\n",
      "Training Loss for Epoch 16 : 174.97984\n",
      "Training Loss for Epoch 17 : 174.8715\n",
      "Training Loss for Epoch 18 : 174.78748\n",
      "Training Loss for Epoch 19 : 174.72258\n",
      "Training Loss for Epoch 20 : 174.6721\n",
      "Test Loss for Epoch 20 : 347.21\n",
      "Training Loss for Epoch 21 : 174.6332\n",
      "Training Loss for Epoch 22 : 174.60295\n",
      "Training Loss for Epoch 23 : 174.5797\n",
      "Training Loss for Epoch 24 : 174.5615\n",
      "Training Loss for Epoch 25 : 174.54744\n",
      "Test Loss for Epoch 25 : 347.19125\n",
      "Training Loss for Epoch 26 : 174.53668\n",
      "Training Loss for Epoch 27 : 174.52827\n",
      "Training Loss for Epoch 28 : 174.52173\n",
      "Training Loss for Epoch 29 : 174.51672\n",
      "Training Loss for Epoch 30 : 174.51282\n",
      "Test Loss for Epoch 30 : 347.2057\n",
      "Training Loss for Epoch 31 : 174.50974\n",
      "Training Loss for Epoch 32 : 174.50745\n",
      "Training Loss for Epoch 33 : 174.5056\n",
      "Training Loss for Epoch 34 : 174.50418\n",
      "Training Loss for Epoch 35 : 174.5031\n",
      "Test Loss for Epoch 35 : 347.21994\n",
      "Training Loss for Epoch 36 : 174.5022\n",
      "Training Loss for Epoch 37 : 174.5016\n",
      "Training Loss for Epoch 38 : 174.50113\n",
      "Training Loss for Epoch 39 : 174.50067\n",
      "Training Loss for Epoch 40 : 174.50043\n",
      "Test Loss for Epoch 40 : 347.22955\n",
      "Training Loss for Epoch 41 : 174.50017\n",
      "Training Loss for Epoch 42 : 174.49997\n",
      "Training Loss for Epoch 43 : 174.49988\n",
      "Training Loss for Epoch 44 : 174.49977\n",
      "Training Loss for Epoch 45 : 174.49965\n",
      "Test Loss for Epoch 45 : 347.23505\n",
      "Training Loss for Epoch 46 : 174.4996\n",
      "Training Loss for Epoch 47 : 174.4996\n",
      "Training Loss for Epoch 48 : 174.49948\n",
      "Training Loss for Epoch 49 : 174.49947\n",
      "Training Loss for Epoch 50 : 174.49945\n",
      "Test Loss for Epoch 50 : 347.23846\n",
      "Training Loss for Epoch 51 : 174.4993\n",
      "Training Loss for Epoch 52 : 174.4993\n",
      "Training Loss for Epoch 53 : 174.49933\n",
      "Training Loss for Epoch 54 : 174.49934\n",
      "Training Loss for Epoch 55 : 174.49937\n",
      "Test Loss for Epoch 55 : 347.23956\n",
      "Training Loss for Epoch 56 : 174.49936\n",
      "Training Loss for Epoch 57 : 174.49933\n",
      "Training Loss for Epoch 58 : 174.4993\n",
      "Training Loss for Epoch 59 : 174.49933\n",
      "Training Loss for Epoch 60 : 174.49933\n",
      "Test Loss for Epoch 60 : 347.24084\n",
      "Training Loss for Epoch 61 : 174.49933\n",
      "Training Loss for Epoch 62 : 174.49937\n",
      "Training Loss for Epoch 63 : 174.49942\n",
      "Training Loss for Epoch 64 : 174.4994\n",
      "Training Loss for Epoch 65 : 174.4994\n",
      "Test Loss for Epoch 65 : 347.24106\n",
      "Training Loss for Epoch 66 : 174.4994\n",
      "Training Loss for Epoch 67 : 174.49942\n",
      "Training Loss for Epoch 68 : 174.49934\n",
      "Training Loss for Epoch 69 : 174.49934\n",
      "Training Loss for Epoch 70 : 174.49934\n",
      "Test Loss for Epoch 70 : 347.2412\n",
      "Training Loss for Epoch 71 : 174.49933\n",
      "Training Loss for Epoch 72 : 174.49934\n",
      "Training Loss for Epoch 73 : 174.49934\n",
      "Training Loss for Epoch 74 : 174.49937\n",
      "Training Loss for Epoch 75 : 174.49934\n",
      "Test Loss for Epoch 75 : 347.24155\n",
      "Training Loss for Epoch 76 : 174.49934\n",
      "Training Loss for Epoch 77 : 174.49934\n",
      "Training Loss for Epoch 78 : 174.49936\n",
      "Training Loss for Epoch 79 : 174.49937\n",
      "Training Loss for Epoch 80 : 174.49937\n",
      "Test Loss for Epoch 80 : 347.2418\n",
      "Training Loss for Epoch 81 : 174.49936\n",
      "Training Loss for Epoch 82 : 174.49934\n",
      "Training Loss for Epoch 83 : 174.49934\n",
      "Training Loss for Epoch 84 : 174.49934\n",
      "Training Loss for Epoch 85 : 174.49933\n",
      "Test Loss for Epoch 85 : 347.2418\n",
      "Training Loss for Epoch 86 : 174.49933\n",
      "Training Loss for Epoch 87 : 174.49933\n",
      "Training Loss for Epoch 88 : 174.49934\n",
      "Training Loss for Epoch 89 : 174.49934\n",
      "Training Loss for Epoch 90 : 174.49934\n",
      "Test Loss for Epoch 90 : 347.24185\n",
      "Training Loss for Epoch 91 : 174.49934\n",
      "Training Loss for Epoch 92 : 174.49934\n",
      "Training Loss for Epoch 93 : 174.49933\n",
      "Training Loss for Epoch 94 : 174.49933\n",
      "Training Loss for Epoch 95 : 174.49933\n",
      "Test Loss for Epoch 95 : 347.24185\n",
      "Training Loss for Epoch 96 : 174.49933\n",
      "Training Loss for Epoch 97 : 174.49933\n",
      "Training Loss for Epoch 98 : 174.49933\n",
      "Training Loss for Epoch 99 : 174.49933\n"
     ]
    }
   ],
   "source": [
    "num_epochs = 100\n",
    "for epoch in range(num_epochs):\n",
    "    W,b,loss = TrainModel(X_train_scaled,Y_train,W,b)\n",
    "    print(\"Training Loss for Epoch\",epoch,\":\",loss)\n",
    "    y_test_pred = pred(X_test_scaled,W,b)\n",
    "    test_loss = cost_fn(Y_test,y_test_pred)\n",
    "    if(epoch%5 == 0):\n",
    "        print(\"Test Loss for Epoch\",epoch,\":\",test_loss.numpy())"
   ]
  },
  {
   "cell_type": "markdown",
   "metadata": {
    "colab_type": "text",
    "id": "DOL2ncA1OB7q"
   },
   "source": [
    "### Get the shapes and values of W and b"
   ]
  },
  {
   "cell_type": "code",
   "execution_count": 140,
   "metadata": {
    "colab": {},
    "colab_type": "code",
    "id": "ZGvtyTeuOB7r"
   },
   "outputs": [
    {
     "name": "stdout",
     "output_type": "stream",
     "text": [
      "Values of W are [[1.3380946]\n",
      " [1.3425944]\n",
      " [1.3241585]\n",
      " [1.3543311]]\n"
     ]
    }
   ],
   "source": [
    "print(\"Values of W are\",W.numpy())"
   ]
  },
  {
   "cell_type": "code",
   "execution_count": 142,
   "metadata": {
    "colab": {},
    "colab_type": "code",
    "id": "vhDtOv5UOB7x"
   },
   "outputs": [
    {
     "name": "stdout",
     "output_type": "stream",
     "text": [
      "Shape of W is (4, 1)\n"
     ]
    }
   ],
   "source": [
    "print(\"Shape of W is\",W.get_shape())"
   ]
  },
  {
   "cell_type": "code",
   "execution_count": 143,
   "metadata": {},
   "outputs": [
    {
     "name": "stdout",
     "output_type": "stream",
     "text": [
      "Values of b are [2.6797438]\n"
     ]
    }
   ],
   "source": [
    "print(\"Values of b are\",b.numpy())"
   ]
  },
  {
   "cell_type": "code",
   "execution_count": 144,
   "metadata": {},
   "outputs": [
    {
     "name": "stdout",
     "output_type": "stream",
     "text": [
      "Shape of b is (1,)\n"
     ]
    }
   ],
   "source": [
    "print(\"Shape of b is\",b.get_shape())"
   ]
  },
  {
   "cell_type": "markdown",
   "metadata": {
    "colab_type": "text",
    "id": "ERq9GOKKciho"
   },
   "source": [
    "### Model Prediction on 1st Examples in Test Dataset"
   ]
  },
  {
   "cell_type": "code",
   "execution_count": 148,
   "metadata": {
    "colab": {},
    "colab_type": "code",
    "id": "gKGvUWahcihp"
   },
   "outputs": [
    {
     "name": "stdout",
     "output_type": "stream",
     "text": [
      "tf.Tensor(\n",
      "[[5.3594174]\n",
      " [5.3593993]\n",
      " [5.3593807]\n",
      " [5.3593283]\n",
      " [5.3594074]\n",
      " [5.3587127]\n",
      " [5.3593946]\n",
      " [5.3593664]\n",
      " [5.359397 ]\n",
      " [5.35941  ]\n",
      " [5.359212 ]\n",
      " [5.3593764]\n",
      " [5.35937  ]\n",
      " [5.359401 ]\n",
      " [5.3592696]\n",
      " [5.359364 ]\n",
      " [5.3593955]\n",
      " [5.3591695]\n",
      " [5.359418 ]\n",
      " [5.3593216]\n",
      " [5.3593874]\n",
      " [5.3594127]\n",
      " [5.359312 ]\n",
      " [5.35938  ]\n",
      " [5.359402 ]\n",
      " [5.359106 ]\n",
      " [5.359399 ]\n",
      " [5.3593984]\n",
      " [5.3593893]\n",
      " [5.3593693]\n",
      " [5.359399 ]\n",
      " [5.3593864]\n",
      " [5.359329 ]\n",
      " [5.3594007]\n",
      " [5.3593273]\n",
      " [5.3592567]\n",
      " [5.3594046]\n",
      " [5.359394 ]\n",
      " [5.3592877]\n",
      " [5.359416 ]\n",
      " [5.3594027]\n",
      " [5.3593884]\n",
      " [5.3593645]\n",
      " [5.359391 ]\n",
      " [5.3594112]\n",
      " [5.359383 ]\n",
      " [5.3593884]\n",
      " [5.3594112]\n",
      " [5.3593802]\n",
      " [5.359376 ]\n",
      " [5.3594103]\n",
      " [5.359417 ]\n",
      " [5.359393 ]\n",
      " [5.359406 ]\n",
      " [5.359313 ]\n",
      " [5.359352 ]\n",
      " [5.359391 ]\n",
      " [5.3593845]\n",
      " [5.3594017]\n",
      " [5.3593693]\n",
      " [5.3594055]\n",
      " [5.359356 ]\n",
      " [5.359413 ]\n",
      " [5.359376 ]\n",
      " [5.359413 ]\n",
      " [5.359383 ]\n",
      " [5.3593864]\n",
      " [5.359373 ]\n",
      " [5.359401 ]\n",
      " [5.3593993]\n",
      " [5.3594074]\n",
      " [5.359272 ]\n",
      " [5.3594027]\n",
      " [5.359398 ]\n",
      " [5.359416 ]\n",
      " [5.359374 ]\n",
      " [5.3594   ]\n",
      " [5.3593946]\n",
      " [5.3593946]\n",
      " [5.359384 ]\n",
      " [5.3594046]\n",
      " [5.3587   ]\n",
      " [5.359353 ]\n",
      " [5.359399 ]\n",
      " [5.3594046]\n",
      " [5.35932  ]\n",
      " [5.3593984]\n",
      " [5.3591814]\n",
      " [5.359412 ]\n",
      " [5.3594093]\n",
      " [5.3594017]\n",
      " [5.359392 ]\n",
      " [5.3587413]\n",
      " [5.359337 ]\n",
      " [5.3594112]\n",
      " [5.3592935]\n",
      " [5.3593903]\n",
      " [5.359235 ]\n",
      " [5.3593993]\n",
      " [5.359371 ]\n",
      " [5.359271 ]\n",
      " [5.35925  ]\n",
      " [5.3594027]\n",
      " [5.359375 ]\n",
      " [5.359386 ]\n",
      " [5.359406 ]\n",
      " [5.3592744]\n",
      " [5.3593926]\n",
      " [5.359378 ]\n",
      " [5.3594084]\n",
      " [5.3594074]\n",
      " [5.359396 ]\n",
      " [5.3593926]\n",
      " [5.3594   ]\n",
      " [5.3594103]\n",
      " [5.3594017]\n",
      " [5.3593826]\n",
      " [5.3594046]\n",
      " [5.359373 ]\n",
      " [5.359409 ]\n",
      " [5.35937  ]\n",
      " [5.359364 ]\n",
      " [5.359385 ]\n",
      " [5.3593683]\n",
      " [5.3593807]\n",
      " [5.359406 ]\n",
      " [5.35938  ]\n",
      " [5.359377 ]\n",
      " [5.359389 ]\n",
      " [5.3593674]\n",
      " [5.3594007]\n",
      " [5.359358 ]\n",
      " [5.359393 ]\n",
      " [5.3592434]\n",
      " [5.3593836]\n",
      " [5.3594003]\n",
      " [5.3594   ]\n",
      " [5.3594003]\n",
      " [5.3594103]\n",
      " [5.359297 ]\n",
      " [5.3593936]\n",
      " [5.3593884]\n",
      " [5.35939  ]\n",
      " [5.3593826]\n",
      " [5.359408 ]\n",
      " [5.3593903]\n",
      " [5.3593984]\n",
      " [5.3594046]\n",
      " [5.359005 ]\n",
      " [5.3593826]\n",
      " [5.359381 ]\n",
      " [5.3591337]\n",
      " [5.359391 ]\n",
      " [5.359396 ]\n",
      " [5.359399 ]\n",
      " [5.3594074]\n",
      " [5.359009 ]\n",
      " [5.3594074]\n",
      " [5.3594   ]\n",
      " [5.3593783]\n",
      " [5.359407 ]\n",
      " [5.3594007]\n",
      " [5.359322 ]\n",
      " [5.359416 ]\n",
      " [5.3592095]\n",
      " [5.3593903]\n",
      " [5.3593755]\n",
      " [5.3593836]\n",
      " [5.3590164]\n",
      " [5.3594084]\n",
      " [5.359391 ]\n",
      " [5.3594112]\n",
      " [5.3593903]\n",
      " [5.35938  ]\n",
      " [5.359379 ]\n",
      " [5.3594165]\n",
      " [5.3594007]\n",
      " [5.359315 ]\n",
      " [5.35939  ]\n",
      " [5.3594046]\n",
      " [5.359226 ]\n",
      " [5.359284 ]\n",
      " [5.359415 ]\n",
      " [5.3594117]\n",
      " [5.359401 ]\n",
      " [5.359395 ]\n",
      " [5.359401 ]\n",
      " [5.359383 ]\n",
      " [5.3594065]\n",
      " [5.359378 ]\n",
      " [5.3593993]\n",
      " [5.3593864]\n",
      " [5.3593216]\n",
      " [5.3591995]\n",
      " [5.359405 ]\n",
      " [5.3594074]\n",
      " [5.3593893]\n",
      " [5.359373 ]\n",
      " [5.3593626]\n",
      " [5.3594112]], shape=(200, 1), dtype=float32)\n"
     ]
    }
   ],
   "source": [
    "y_test_pred = pred(X_test_scaled,W,b)\n",
    "print(y_test_pred)"
   ]
  },
  {
   "cell_type": "markdown",
   "metadata": {
    "colab_type": "text",
    "id": "YJRBuqXhOB7_"
   },
   "source": [
    "## Classification using tf.Keras\n",
    "\n",
    "In this exercise, we will build a Deep Neural Network using tf.Keras. We will use Iris Dataset for this exercise."
   ]
  },
  {
   "cell_type": "markdown",
   "metadata": {
    "colab_type": "text",
    "id": "sb7Epo0VOB58"
   },
   "source": [
    "### Load tensorflow if not done already"
   ]
  },
  {
   "cell_type": "markdown",
   "metadata": {
    "colab_type": "text",
    "id": "O0g6lorycihf"
   },
   "source": [
    "### Load the given Iris data using pandas (Iris.csv)"
   ]
  },
  {
   "cell_type": "code",
   "execution_count": 9,
   "metadata": {
    "colab": {},
    "colab_type": "code",
    "id": "6xFvb5sRcihg"
   },
   "outputs": [
    {
     "data": {
      "text/html": [
       "<div>\n",
       "<style scoped>\n",
       "    .dataframe tbody tr th:only-of-type {\n",
       "        vertical-align: middle;\n",
       "    }\n",
       "\n",
       "    .dataframe tbody tr th {\n",
       "        vertical-align: top;\n",
       "    }\n",
       "\n",
       "    .dataframe thead th {\n",
       "        text-align: right;\n",
       "    }\n",
       "</style>\n",
       "<table border=\"1\" class=\"dataframe\">\n",
       "  <thead>\n",
       "    <tr style=\"text-align: right;\">\n",
       "      <th></th>\n",
       "      <th>Id</th>\n",
       "      <th>SepalLengthCm</th>\n",
       "      <th>SepalWidthCm</th>\n",
       "      <th>PetalLengthCm</th>\n",
       "      <th>PetalWidthCm</th>\n",
       "      <th>Species</th>\n",
       "    </tr>\n",
       "  </thead>\n",
       "  <tbody>\n",
       "    <tr>\n",
       "      <th>0</th>\n",
       "      <td>1</td>\n",
       "      <td>5.1</td>\n",
       "      <td>3.5</td>\n",
       "      <td>1.4</td>\n",
       "      <td>0.2</td>\n",
       "      <td>Iris-setosa</td>\n",
       "    </tr>\n",
       "    <tr>\n",
       "      <th>1</th>\n",
       "      <td>2</td>\n",
       "      <td>4.9</td>\n",
       "      <td>3.0</td>\n",
       "      <td>1.4</td>\n",
       "      <td>0.2</td>\n",
       "      <td>Iris-setosa</td>\n",
       "    </tr>\n",
       "    <tr>\n",
       "      <th>2</th>\n",
       "      <td>3</td>\n",
       "      <td>4.7</td>\n",
       "      <td>3.2</td>\n",
       "      <td>1.3</td>\n",
       "      <td>0.2</td>\n",
       "      <td>Iris-setosa</td>\n",
       "    </tr>\n",
       "    <tr>\n",
       "      <th>3</th>\n",
       "      <td>4</td>\n",
       "      <td>4.6</td>\n",
       "      <td>3.1</td>\n",
       "      <td>1.5</td>\n",
       "      <td>0.2</td>\n",
       "      <td>Iris-setosa</td>\n",
       "    </tr>\n",
       "    <tr>\n",
       "      <th>4</th>\n",
       "      <td>5</td>\n",
       "      <td>5.0</td>\n",
       "      <td>3.6</td>\n",
       "      <td>1.4</td>\n",
       "      <td>0.2</td>\n",
       "      <td>Iris-setosa</td>\n",
       "    </tr>\n",
       "  </tbody>\n",
       "</table>\n",
       "</div>"
      ],
      "text/plain": [
       "   Id  SepalLengthCm  SepalWidthCm  PetalLengthCm  PetalWidthCm      Species\n",
       "0   1            5.1           3.5            1.4           0.2  Iris-setosa\n",
       "1   2            4.9           3.0            1.4           0.2  Iris-setosa\n",
       "2   3            4.7           3.2            1.3           0.2  Iris-setosa\n",
       "3   4            4.6           3.1            1.5           0.2  Iris-setosa\n",
       "4   5            5.0           3.6            1.4           0.2  Iris-setosa"
      ]
     },
     "execution_count": 9,
     "metadata": {},
     "output_type": "execute_result"
    }
   ],
   "source": [
    "iris_df = pd.read_csv('iris.csv')\n",
    "iris_df.head()"
   ]
  },
  {
   "cell_type": "markdown",
   "metadata": {
    "colab_type": "text",
    "id": "SAB--Qdwcihm"
   },
   "source": [
    "### Target set has different categories. So, Label encode them. And convert into one-hot vectors using get_dummies in pandas."
   ]
  },
  {
   "cell_type": "code",
   "execution_count": 10,
   "metadata": {
    "colab": {},
    "colab_type": "code",
    "id": "IJr5dYnocihm"
   },
   "outputs": [
    {
     "data": {
      "text/html": [
       "<div>\n",
       "<style scoped>\n",
       "    .dataframe tbody tr th:only-of-type {\n",
       "        vertical-align: middle;\n",
       "    }\n",
       "\n",
       "    .dataframe tbody tr th {\n",
       "        vertical-align: top;\n",
       "    }\n",
       "\n",
       "    .dataframe thead th {\n",
       "        text-align: right;\n",
       "    }\n",
       "</style>\n",
       "<table border=\"1\" class=\"dataframe\">\n",
       "  <thead>\n",
       "    <tr style=\"text-align: right;\">\n",
       "      <th></th>\n",
       "      <th>Id</th>\n",
       "      <th>SepalLengthCm</th>\n",
       "      <th>SepalWidthCm</th>\n",
       "      <th>PetalLengthCm</th>\n",
       "      <th>PetalWidthCm</th>\n",
       "      <th>Species_Iris-setosa</th>\n",
       "      <th>Species_Iris-versicolor</th>\n",
       "      <th>Species_Iris-virginica</th>\n",
       "    </tr>\n",
       "  </thead>\n",
       "  <tbody>\n",
       "    <tr>\n",
       "      <th>0</th>\n",
       "      <td>1</td>\n",
       "      <td>5.1</td>\n",
       "      <td>3.5</td>\n",
       "      <td>1.4</td>\n",
       "      <td>0.2</td>\n",
       "      <td>1</td>\n",
       "      <td>0</td>\n",
       "      <td>0</td>\n",
       "    </tr>\n",
       "    <tr>\n",
       "      <th>1</th>\n",
       "      <td>2</td>\n",
       "      <td>4.9</td>\n",
       "      <td>3.0</td>\n",
       "      <td>1.4</td>\n",
       "      <td>0.2</td>\n",
       "      <td>1</td>\n",
       "      <td>0</td>\n",
       "      <td>0</td>\n",
       "    </tr>\n",
       "    <tr>\n",
       "      <th>2</th>\n",
       "      <td>3</td>\n",
       "      <td>4.7</td>\n",
       "      <td>3.2</td>\n",
       "      <td>1.3</td>\n",
       "      <td>0.2</td>\n",
       "      <td>1</td>\n",
       "      <td>0</td>\n",
       "      <td>0</td>\n",
       "    </tr>\n",
       "    <tr>\n",
       "      <th>3</th>\n",
       "      <td>4</td>\n",
       "      <td>4.6</td>\n",
       "      <td>3.1</td>\n",
       "      <td>1.5</td>\n",
       "      <td>0.2</td>\n",
       "      <td>1</td>\n",
       "      <td>0</td>\n",
       "      <td>0</td>\n",
       "    </tr>\n",
       "    <tr>\n",
       "      <th>4</th>\n",
       "      <td>5</td>\n",
       "      <td>5.0</td>\n",
       "      <td>3.6</td>\n",
       "      <td>1.4</td>\n",
       "      <td>0.2</td>\n",
       "      <td>1</td>\n",
       "      <td>0</td>\n",
       "      <td>0</td>\n",
       "    </tr>\n",
       "  </tbody>\n",
       "</table>\n",
       "</div>"
      ],
      "text/plain": [
       "   Id  SepalLengthCm  SepalWidthCm  PetalLengthCm  PetalWidthCm  \\\n",
       "0   1            5.1           3.5            1.4           0.2   \n",
       "1   2            4.9           3.0            1.4           0.2   \n",
       "2   3            4.7           3.2            1.3           0.2   \n",
       "3   4            4.6           3.1            1.5           0.2   \n",
       "4   5            5.0           3.6            1.4           0.2   \n",
       "\n",
       "   Species_Iris-setosa  Species_Iris-versicolor  Species_Iris-virginica  \n",
       "0                    1                        0                       0  \n",
       "1                    1                        0                       0  \n",
       "2                    1                        0                       0  \n",
       "3                    1                        0                       0  \n",
       "4                    1                        0                       0  "
      ]
     },
     "execution_count": 10,
     "metadata": {},
     "output_type": "execute_result"
    }
   ],
   "source": [
    "iris_df=pd.get_dummies(iris_df)\n",
    "iris_df.head()"
   ]
  },
  {
   "cell_type": "code",
   "execution_count": 11,
   "metadata": {},
   "outputs": [],
   "source": [
    "iris_df.drop('Id',axis=1,inplace=True)"
   ]
  },
  {
   "cell_type": "markdown",
   "metadata": {
    "colab_type": "text",
    "id": "D95nY5ILcihj"
   },
   "source": [
    "### Splitting the data into feature set and target set"
   ]
  },
  {
   "cell_type": "code",
   "execution_count": 14,
   "metadata": {
    "colab": {},
    "colab_type": "code",
    "id": "RyMQoLMucihj"
   },
   "outputs": [],
   "source": [
    "features = iris_df.iloc[:,:-3]\n",
    "target =  iris_df.iloc[:,-3:]"
   ]
  },
  {
   "cell_type": "markdown",
   "metadata": {
    "colab_type": "text",
    "id": "ERq9GOKKciho"
   },
   "source": [
    "### Divide the dataset into Training and test (70:30)"
   ]
  },
  {
   "cell_type": "code",
   "execution_count": 35,
   "metadata": {
    "colab": {},
    "colab_type": "code",
    "id": "gKGvUWahcihp"
   },
   "outputs": [],
   "source": [
    "X_train, X_test,Y_train,Y_test = train_test_split(features,target,test_size=0.3,random_state=1)"
   ]
  },
  {
   "cell_type": "markdown",
   "metadata": {
    "colab_type": "text",
    "id": "b22qpC5xcihr"
   },
   "source": [
    "###  Building Model in tf.keras\n",
    "\n",
    "Build a Linear Classifier model  <br>\n",
    "1.  Use Dense Layer  with input shape of 4 (according to the feature set) and number of outputs set to 3<br> \n",
    "2. Apply Softmax on Dense Layer outputs <br>\n",
    "3. Use SGD as Optimizer\n",
    "4. Use categorical_crossentropy as loss function "
   ]
  },
  {
   "cell_type": "code",
   "execution_count": 55,
   "metadata": {
    "colab": {},
    "colab_type": "code",
    "id": "Hov_UFnUciht"
   },
   "outputs": [],
   "source": [
    "#Initialize Sequential Graph (model)\n",
    "model = tf.keras.models.Sequential()\n",
    "\n",
    "#Normalize input data\n",
    "model.add(tf.keras.layers.BatchNormalization(input_shape=(4,)))\n",
    "\n",
    "#Add Dense layer for prediction - Keras declares weights and bias automatically\n",
    "model.add(tf.keras.layers.Dense(3,activation='softmax'))\n",
    "\n",
    "#Compile the model - add Loss and Gradient Descent optimizer\n",
    "model.compile(optimizer='sgd', loss='categorical_crossentropy')"
   ]
  },
  {
   "cell_type": "markdown",
   "metadata": {
    "colab_type": "text",
    "id": "T5FdzqIKcihw"
   },
   "source": [
    "### Model Training "
   ]
  },
  {
   "cell_type": "code",
   "execution_count": 56,
   "metadata": {
    "colab": {},
    "colab_type": "code",
    "id": "4qLEdHPscihx"
   },
   "outputs": [
    {
     "name": "stdout",
     "output_type": "stream",
     "text": [
      "Train on 105 samples, validate on 45 samples\n",
      "Epoch 1/50\n",
      "105/105 [==============================] - 1s 6ms/sample - loss: 1.9260 - val_loss: 5.5160\n",
      "Epoch 2/50\n",
      "105/105 [==============================] - 0s 105us/sample - loss: 1.8343 - val_loss: 4.9843\n",
      "Epoch 3/50\n",
      "105/105 [==============================] - 0s 133us/sample - loss: 1.7550 - val_loss: 4.5051\n",
      "Epoch 4/50\n",
      "105/105 [==============================] - 0s 104us/sample - loss: 1.6365 - val_loss: 4.1040\n",
      "Epoch 5/50\n",
      "105/105 [==============================] - 0s 152us/sample - loss: 1.5942 - val_loss: 3.7374\n",
      "Epoch 6/50\n",
      "105/105 [==============================] - 0s 133us/sample - loss: 1.5088 - val_loss: 3.4200\n",
      "Epoch 7/50\n",
      "105/105 [==============================] - 0s 123us/sample - loss: 1.4550 - val_loss: 3.1427\n",
      "Epoch 8/50\n",
      "105/105 [==============================] - 0s 142us/sample - loss: 1.3935 - val_loss: 2.8927\n",
      "Epoch 9/50\n",
      "105/105 [==============================] - 0s 104us/sample - loss: 1.3461 - val_loss: 2.6695\n",
      "Epoch 10/50\n",
      "105/105 [==============================] - 0s 142us/sample - loss: 1.3131 - val_loss: 2.4522\n",
      "Epoch 11/50\n",
      "105/105 [==============================] - 0s 133us/sample - loss: 1.2758 - val_loss: 2.2694\n",
      "Epoch 12/50\n",
      "105/105 [==============================] - 0s 114us/sample - loss: 1.2165 - val_loss: 2.1064\n",
      "Epoch 13/50\n",
      "105/105 [==============================] - 0s 142us/sample - loss: 1.1848 - val_loss: 1.9623\n",
      "Epoch 14/50\n",
      "105/105 [==============================] - 0s 123us/sample - loss: 1.1663 - val_loss: 1.8301\n",
      "Epoch 15/50\n",
      "105/105 [==============================] - 0s 123us/sample - loss: 1.1253 - val_loss: 1.7128\n",
      "Epoch 16/50\n",
      "105/105 [==============================] - 0s 114us/sample - loss: 1.0862 - val_loss: 1.6094\n",
      "Epoch 17/50\n",
      "105/105 [==============================] - 0s 123us/sample - loss: 1.0620 - val_loss: 1.5141\n",
      "Epoch 18/50\n",
      "105/105 [==============================] - 0s 285us/sample - loss: 1.0401 - val_loss: 1.4318\n",
      "Epoch 19/50\n",
      "105/105 [==============================] - 0s 152us/sample - loss: 1.0035 - val_loss: 1.3574\n",
      "Epoch 20/50\n",
      "105/105 [==============================] - 0s 133us/sample - loss: 0.9804 - val_loss: 1.2919\n",
      "Epoch 21/50\n",
      "105/105 [==============================] - 0s 142us/sample - loss: 0.9520 - val_loss: 1.2334\n",
      "Epoch 22/50\n",
      "105/105 [==============================] - 0s 161us/sample - loss: 0.9328 - val_loss: 1.1771\n",
      "Epoch 23/50\n",
      "105/105 [==============================] - 0s 143us/sample - loss: 0.9159 - val_loss: 1.1272\n",
      "Epoch 24/50\n",
      "105/105 [==============================] - 0s 171us/sample - loss: 0.8934 - val_loss: 1.0831\n",
      "Epoch 25/50\n",
      "105/105 [==============================] - 0s 114us/sample - loss: 0.8711 - val_loss: 1.0428\n",
      "Epoch 26/50\n",
      "105/105 [==============================] - 0s 142us/sample - loss: 0.8667 - val_loss: 1.0052\n",
      "Epoch 27/50\n",
      "105/105 [==============================] - 0s 105us/sample - loss: 0.8538 - val_loss: 0.9728\n",
      "Epoch 28/50\n",
      "105/105 [==============================] - 0s 142us/sample - loss: 0.8194 - val_loss: 0.9438\n",
      "Epoch 29/50\n",
      "105/105 [==============================] - 0s 95us/sample - loss: 0.8155 - val_loss: 0.9176\n",
      "Epoch 30/50\n",
      "105/105 [==============================] - 0s 161us/sample - loss: 0.8030 - val_loss: 0.8932\n",
      "Epoch 31/50\n",
      "105/105 [==============================] - 0s 142us/sample - loss: 0.7785 - val_loss: 0.8727\n",
      "Epoch 32/50\n",
      "105/105 [==============================] - 0s 142us/sample - loss: 0.7718 - val_loss: 0.8521\n",
      "Epoch 33/50\n",
      "105/105 [==============================] - 0s 114us/sample - loss: 0.7612 - val_loss: 0.8334\n",
      "Epoch 34/50\n",
      "105/105 [==============================] - 0s 123us/sample - loss: 0.7377 - val_loss: 0.8167\n",
      "Epoch 35/50\n",
      "105/105 [==============================] - 0s 95us/sample - loss: 0.7398 - val_loss: 0.8011\n",
      "Epoch 36/50\n",
      "105/105 [==============================] - 0s 85us/sample - loss: 0.7289 - val_loss: 0.7875\n",
      "Epoch 37/50\n",
      "105/105 [==============================] - 0s 123us/sample - loss: 0.7198 - val_loss: 0.7756\n",
      "Epoch 38/50\n",
      "105/105 [==============================] - 0s 114us/sample - loss: 0.7151 - val_loss: 0.7626\n",
      "Epoch 39/50\n",
      "105/105 [==============================] - 0s 104us/sample - loss: 0.6881 - val_loss: 0.7514\n",
      "Epoch 40/50\n",
      "105/105 [==============================] - 0s 133us/sample - loss: 0.6818 - val_loss: 0.7409\n",
      "Epoch 41/50\n",
      "105/105 [==============================] - 0s 105us/sample - loss: 0.6705 - val_loss: 0.7301\n",
      "Epoch 42/50\n",
      "105/105 [==============================] - 0s 133us/sample - loss: 0.6622 - val_loss: 0.7205\n",
      "Epoch 43/50\n",
      "105/105 [==============================] - 0s 95us/sample - loss: 0.6490 - val_loss: 0.7113\n",
      "Epoch 44/50\n",
      "105/105 [==============================] - 0s 133us/sample - loss: 0.6580 - val_loss: 0.7020\n",
      "Epoch 45/50\n",
      "105/105 [==============================] - 0s 143us/sample - loss: 0.6387 - val_loss: 0.6943\n",
      "Epoch 46/50\n",
      "105/105 [==============================] - 0s 85us/sample - loss: 0.6222 - val_loss: 0.6872\n",
      "Epoch 47/50\n",
      "105/105 [==============================] - 0s 85us/sample - loss: 0.6226 - val_loss: 0.6795\n",
      "Epoch 48/50\n",
      "105/105 [==============================] - 0s 123us/sample - loss: 0.6085 - val_loss: 0.6721\n",
      "Epoch 49/50\n",
      "105/105 [==============================] - 0s 114us/sample - loss: 0.6177 - val_loss: 0.6646\n",
      "Epoch 50/50\n",
      "105/105 [==============================] - 0s 142us/sample - loss: 0.6279 - val_loss: 0.6581\n"
     ]
    },
    {
     "data": {
      "text/plain": [
       "<tensorflow.python.keras.callbacks.History at 0x14df5b3b4a8>"
      ]
     },
     "execution_count": 56,
     "metadata": {},
     "output_type": "execute_result"
    }
   ],
   "source": [
    "model.fit(X_train, Y_train, validation_data=[X_test,Y_test], epochs=50)"
   ]
  },
  {
   "cell_type": "markdown",
   "metadata": {
    "colab_type": "text",
    "id": "y-SgSSdRcih5"
   },
   "source": [
    "### Model Prediction"
   ]
  },
  {
   "cell_type": "code",
   "execution_count": 45,
   "metadata": {
    "colab": {},
    "colab_type": "code",
    "id": "GBgKZkhkcih6"
   },
   "outputs": [
    {
     "name": "stdout",
     "output_type": "stream",
     "text": [
      "[[0.7681112  0.21424845 0.01764031]\n",
      " [0.2963103  0.39376915 0.30992055]\n",
      " [0.13776132 0.3746807  0.48755795]\n",
      " [0.74280417 0.2271695  0.03002633]\n",
      " [0.03111684 0.17345972 0.79542345]\n",
      " [0.11753712 0.2760616  0.60640126]\n",
      " [0.01554077 0.13887924 0.84558004]\n",
      " [0.7678046  0.19633025 0.03586507]\n",
      " [0.7825929  0.1914627  0.02594443]\n",
      " [0.01473409 0.11387464 0.87139124]\n",
      " [0.1938965  0.33153817 0.47456536]\n",
      " [0.7490835  0.21748151 0.03343492]\n",
      " [0.01982216 0.14695773 0.83322006]\n",
      " [0.13459246 0.32192758 0.5434799 ]\n",
      " [0.1279419  0.29916334 0.57289475]\n",
      " [0.8040438  0.17286852 0.02308768]\n",
      " [0.20824164 0.38351998 0.40823838]\n",
      " [0.1521781  0.26586562 0.5819563 ]\n",
      " [0.6775743  0.2825338  0.03989189]\n",
      " [0.74788874 0.22804391 0.02406739]\n",
      " [0.22235619 0.3285763  0.4490675 ]\n",
      " [0.16095018 0.25136322 0.58768654]\n",
      " [0.06760549 0.26653448 0.66586   ]\n",
      " [0.759589   0.21304797 0.02736294]\n",
      " [0.04529205 0.20683925 0.74786866]\n",
      " [0.19991623 0.3424692  0.45761457]\n",
      " [0.8192916  0.16452    0.01618841]\n",
      " [0.7885734  0.18631223 0.02511436]\n",
      " [0.20273526 0.35261938 0.4446454 ]\n",
      " [0.03485696 0.19972509 0.76541793]\n",
      " [0.15835203 0.31704164 0.52460635]\n",
      " [0.00964551 0.12676992 0.8635845 ]\n",
      " [0.24800755 0.38805765 0.36393476]\n",
      " [0.02233276 0.13299766 0.8446696 ]\n",
      " [0.01317601 0.08862957 0.89819443]\n",
      " [0.7844643  0.19450785 0.02102781]\n",
      " [0.1632349  0.35437426 0.4823909 ]\n",
      " [0.75664246 0.2198408  0.02351669]\n",
      " [0.10237934 0.33450097 0.56311965]\n",
      " [0.03474999 0.19697416 0.76827586]\n",
      " [0.02319226 0.15308003 0.82372767]\n",
      " [0.7515337  0.22006513 0.0284011 ]\n",
      " [0.07992237 0.2803082  0.6397695 ]\n",
      " [0.05174526 0.18385428 0.7644005 ]\n",
      " [0.15444736 0.38396156 0.46159106]]\n"
     ]
    }
   ],
   "source": [
    "y_pred = model.predict(X_test)\n",
    "print(y_pred)"
   ]
  },
  {
   "cell_type": "code",
   "execution_count": 72,
   "metadata": {},
   "outputs": [
    {
     "name": "stdout",
     "output_type": "stream",
     "text": [
      "[0 1 2 0 2 2 2 0 0 2 2 0 2 2 2 0 2 2 0 0 2 2 2 0 2 2 0 0 2 2 2 2 2 2 2 0 2\n",
      " 0 2 2 2 0 2 2 2]\n"
     ]
    }
   ],
   "source": [
    "y_pred_class = model.predict_classes(X_test)\n",
    "print(y_pred_class)"
   ]
  },
  {
   "cell_type": "markdown",
   "metadata": {
    "colab_type": "text",
    "id": "P32ASP1Vjt0a"
   },
   "source": [
    "### Save the Model"
   ]
  },
  {
   "cell_type": "code",
   "execution_count": 46,
   "metadata": {
    "colab": {},
    "colab_type": "code",
    "id": "n8rd0jjAjyTR"
   },
   "outputs": [],
   "source": [
    "model.save('iris_output.h5')"
   ]
  },
  {
   "cell_type": "markdown",
   "metadata": {
    "colab_type": "text",
    "id": "XiipRpe7rbVh"
   },
   "source": [
    "### Build and Train a Deep Neural network with 2 hidden layer  - Optional - For Practice\n",
    "\n",
    "Does it perform better than Linear Classifier? What could be the reason for difference in performance?"
   ]
  },
  {
   "cell_type": "code",
   "execution_count": 69,
   "metadata": {
    "colab": {},
    "colab_type": "code",
    "id": "v5Du3lubr4sA"
   },
   "outputs": [],
   "source": [
    "#Initialize Sequential Graph (model)\n",
    "model = tf.keras.models.Sequential()\n",
    "\n",
    "#Normalize input data\n",
    "model.add(tf.keras.layers.BatchNormalization(input_shape=(4,)))\n",
    "\n",
    "#Add Dense layer for prediction - Keras declares weights and bias automatically\n",
    "model.add(tf.keras.layers.Dense(6,activation='relu'))\n",
    "\n",
    "#model.add(tf.keras.layers.Dense(3,activation='relu'))\n",
    "\n",
    "model.add(tf.keras.layers.Dense(3,activation='softmax'))\n",
    "\n",
    "#Compile the model - add Loss and Gradient Descent optimizer\n",
    "model.compile(optimizer='sgd', loss='categorical_crossentropy')"
   ]
  },
  {
   "cell_type": "code",
   "execution_count": 70,
   "metadata": {},
   "outputs": [
    {
     "name": "stdout",
     "output_type": "stream",
     "text": [
      "Train on 105 samples, validate on 45 samples\n",
      "Epoch 1/50\n",
      "105/105 [==============================] - 1s 9ms/sample - loss: 1.1092 - val_loss: 1.1054\n",
      "Epoch 2/50\n",
      "105/105 [==============================] - ETA: 0s - loss: 1.096 - 0s 142us/sample - loss: 1.0715 - val_loss: 1.0697\n",
      "Epoch 3/50\n",
      "105/105 [==============================] - 0s 142us/sample - loss: 1.0289 - val_loss: 1.0418\n",
      "Epoch 4/50\n",
      "105/105 [==============================] - 0s 152us/sample - loss: 0.9943 - val_loss: 1.0137\n",
      "Epoch 5/50\n",
      "105/105 [==============================] - 0s 161us/sample - loss: 0.9602 - val_loss: 0.9854\n",
      "Epoch 6/50\n",
      "105/105 [==============================] - 0s 171us/sample - loss: 0.9232 - val_loss: 0.9750\n",
      "Epoch 7/50\n",
      "105/105 [==============================] - 0s 171us/sample - loss: 0.8948 - val_loss: 0.9633\n",
      "Epoch 8/50\n",
      "105/105 [==============================] - 0s 152us/sample - loss: 0.8691 - val_loss: 0.9510\n",
      "Epoch 9/50\n",
      "105/105 [==============================] - 0s 142us/sample - loss: 0.8413 - val_loss: 0.9393\n",
      "Epoch 10/50\n",
      "105/105 [==============================] - 0s 152us/sample - loss: 0.8348 - val_loss: 0.9278\n",
      "Epoch 11/50\n",
      "105/105 [==============================] - 0s 171us/sample - loss: 0.8058 - val_loss: 0.9131\n",
      "Epoch 12/50\n",
      "105/105 [==============================] - 0s 161us/sample - loss: 0.7918 - val_loss: 0.9000\n",
      "Epoch 13/50\n",
      "105/105 [==============================] - 0s 114us/sample - loss: 0.7660 - val_loss: 0.8809\n",
      "Epoch 14/50\n",
      "105/105 [==============================] - 0s 152us/sample - loss: 0.7547 - val_loss: 0.8673\n",
      "Epoch 15/50\n",
      "105/105 [==============================] - 0s 171us/sample - loss: 0.7326 - val_loss: 0.8495\n",
      "Epoch 16/50\n",
      "105/105 [==============================] - 0s 171us/sample - loss: 0.7231 - val_loss: 0.8277\n",
      "Epoch 17/50\n",
      "105/105 [==============================] - 0s 180us/sample - loss: 0.7209 - val_loss: 0.8141\n",
      "Epoch 18/50\n",
      "105/105 [==============================] - 0s 161us/sample - loss: 0.7147 - val_loss: 0.7948\n",
      "Epoch 19/50\n",
      "105/105 [==============================] - 0s 152us/sample - loss: 0.6833 - val_loss: 0.7761\n",
      "Epoch 20/50\n",
      "105/105 [==============================] - 0s 171us/sample - loss: 0.6705 - val_loss: 0.7600\n",
      "Epoch 21/50\n",
      "105/105 [==============================] - 0s 162us/sample - loss: 0.6524 - val_loss: 0.7414\n",
      "Epoch 22/50\n",
      "105/105 [==============================] - 0s 142us/sample - loss: 0.6445 - val_loss: 0.7272\n",
      "Epoch 23/50\n",
      "105/105 [==============================] - 0s 124us/sample - loss: 0.6317 - val_loss: 0.7143\n",
      "Epoch 24/50\n",
      "105/105 [==============================] - 0s 95us/sample - loss: 0.6307 - val_loss: 0.7042\n",
      "Epoch 25/50\n",
      "105/105 [==============================] - 0s 152us/sample - loss: 0.6227 - val_loss: 0.6926\n",
      "Epoch 26/50\n",
      "105/105 [==============================] - 0s 142us/sample - loss: 0.6202 - val_loss: 0.6786\n",
      "Epoch 27/50\n",
      "105/105 [==============================] - 0s 152us/sample - loss: 0.6284 - val_loss: 0.6635\n",
      "Epoch 28/50\n",
      "105/105 [==============================] - 0s 171us/sample - loss: 0.6210 - val_loss: 0.6541\n",
      "Epoch 29/50\n",
      "105/105 [==============================] - 0s 142us/sample - loss: 0.5941 - val_loss: 0.6463\n",
      "Epoch 30/50\n",
      "105/105 [==============================] - 0s 133us/sample - loss: 0.5808 - val_loss: 0.6404\n",
      "Epoch 31/50\n",
      "105/105 [==============================] - 0s 123us/sample - loss: 0.5703 - val_loss: 0.6337\n",
      "Epoch 32/50\n",
      "105/105 [==============================] - 0s 171us/sample - loss: 0.5751 - val_loss: 0.6235\n",
      "Epoch 33/50\n",
      "105/105 [==============================] - 0s 152us/sample - loss: 0.5657 - val_loss: 0.6191\n",
      "Epoch 34/50\n",
      "105/105 [==============================] - 0s 228us/sample - loss: 0.5631 - val_loss: 0.6133\n",
      "Epoch 35/50\n",
      "105/105 [==============================] - 0s 161us/sample - loss: 0.5556 - val_loss: 0.6101\n",
      "Epoch 36/50\n",
      "105/105 [==============================] - 0s 161us/sample - loss: 0.5508 - val_loss: 0.6054\n",
      "Epoch 37/50\n",
      "105/105 [==============================] - 0s 199us/sample - loss: 0.5645 - val_loss: 0.6016\n",
      "Epoch 38/50\n",
      "105/105 [==============================] - 0s 142us/sample - loss: 0.5429 - val_loss: 0.5934\n",
      "Epoch 39/50\n",
      "105/105 [==============================] - 0s 161us/sample - loss: 0.5327 - val_loss: 0.5893\n",
      "Epoch 40/50\n",
      "105/105 [==============================] - 0s 124us/sample - loss: 0.5197 - val_loss: 0.5858\n",
      "Epoch 41/50\n",
      "105/105 [==============================] - 0s 180us/sample - loss: 0.5279 - val_loss: 0.5814\n",
      "Epoch 42/50\n",
      "105/105 [==============================] - 0s 142us/sample - loss: 0.5345 - val_loss: 0.5714\n",
      "Epoch 43/50\n",
      "105/105 [==============================] - 0s 180us/sample - loss: 0.5125 - val_loss: 0.5655\n",
      "Epoch 44/50\n",
      "105/105 [==============================] - 0s 180us/sample - loss: 0.5032 - val_loss: 0.5635\n",
      "Epoch 45/50\n",
      "105/105 [==============================] - 0s 199us/sample - loss: 0.4980 - val_loss: 0.5581\n",
      "Epoch 46/50\n",
      "105/105 [==============================] - 0s 133us/sample - loss: 0.4977 - val_loss: 0.5555\n",
      "Epoch 47/50\n",
      "105/105 [==============================] - 0s 133us/sample - loss: 0.4886 - val_loss: 0.5516\n",
      "Epoch 48/50\n",
      "105/105 [==============================] - 0s 190us/sample - loss: 0.5003 - val_loss: 0.5468\n",
      "Epoch 49/50\n",
      "105/105 [==============================] - 0s 123us/sample - loss: 0.4956 - val_loss: 0.5403\n",
      "Epoch 50/50\n",
      "105/105 [==============================] - 0s 114us/sample - loss: 0.4898 - val_loss: 0.5369\n"
     ]
    },
    {
     "data": {
      "text/plain": [
       "<tensorflow.python.keras.callbacks.History at 0x14dfca979e8>"
      ]
     },
     "execution_count": 70,
     "metadata": {},
     "output_type": "execute_result"
    }
   ],
   "source": [
    "model.fit(X_train, Y_train, validation_data=[X_test,Y_test], epochs=50)"
   ]
  },
  {
   "cell_type": "code",
   "execution_count": null,
   "metadata": {},
   "outputs": [],
   "source": []
  }
 ],
 "metadata": {
  "colab": {
   "name": "3. R6_InternalLab_AIML_Share_Prices-Eager Execution.ipynb",
   "provenance": [],
   "version": "0.3.2"
  },
  "kernelspec": {
   "display_name": "Python 3",
   "language": "python",
   "name": "python3"
  },
  "language_info": {
   "codemirror_mode": {
    "name": "ipython",
    "version": 3
   },
   "file_extension": ".py",
   "mimetype": "text/x-python",
   "name": "python",
   "nbconvert_exporter": "python",
   "pygments_lexer": "ipython3",
   "version": "3.7.2"
  }
 },
 "nbformat": 4,
 "nbformat_minor": 1
}
